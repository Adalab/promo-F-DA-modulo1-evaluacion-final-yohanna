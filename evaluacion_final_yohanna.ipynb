{
 "cells": [
  {
   "cell_type": "markdown",
   "metadata": {},
   "source": [
    "#Ejercicio#\n",
    "\n",
    "A lo largo de esta evaluación tendrás que crear una clase llamada TiendaOnline que cumpla los siguientes requisitos:\n",
    "\n",
    "La clase TiendaOnline debe tener los siguientes atributos:\n",
    "\n",
    "1. inventario (lista de diccionarios): Un atributo para almacenar los productos en el inventario. Cada producto debe ser representado como un diccionario con las siguientes claves: 'nombre', 'precio', y 'cantidad'. Al principio deberá ser una lista vacía. Ejemplo de como debería ser:\n",
    "\n",
    "[{'nombre': 'Camisa', 'precio': 20, 'cantidad': 40},\n",
    "{'nombre': 'Pantalón', 'precio': 30, 'cantidad': 30}]\n",
    "\n",
    "2. clientes (diccionario): Un atributo para llevar un registro de los clientes de la tienda. Cada cliente debe ser representado como un diccionario con las siguientes claves: 'nombre' y 'email'. Al inicio deberá ser un diccionario vacío. Además, cada cliente debe tener un historial de compras. Deberá parecerse a\n",
    "\n",
    "{'Cliente1': {'email': 'cliente1@email.com', 'compras': []},\n",
    "'Cliente2': {'email': 'cliente2@email.com', 'compras': []}}\n",
    "\n",
    "3. ventas_totales (float): Un atributo para llevar un registro de las ventas totales de la tienda. Inicializalo con valor 0"
   ]
  },
  {
   "cell_type": "code",
   "execution_count": 15,
   "metadata": {},
   "outputs": [],
   "source": [
    "import re\n",
    "\n",
    "#Parte 1\n",
    "\n",
    "class TiendaOnline:\n",
    "    def __init__(self, inventario):\n",
    "        self.inventario = inventario\n",
    "    \n",
    "        self.inventario = [] \n",
    "        self.clientes = {}\n",
    "        self.ventas_totales = 0.0\n",
    "      \n",
    "\n",
    "#Parte 2 metodo 1\n",
    "\n",
    "    def agregar_producto(self, nombre, precio, cantidad):\n",
    "        for producto in self.inventario:\n",
    "            if producto [\"nombre\"] == nombre:\n",
    "                producto [\"cantidad\"] += cantidad\n",
    "                break\n",
    "        else:\n",
    "            producto = {\"nombre\": nombre, \"precio\": precio, \"cantidad\": cantidad} \n",
    "        self.inventario.append(producto)\n",
    "\n",
    "#Parte 2 metodo 2\n",
    "\n",
    "    def ver_inventario(self):\n",
    "        for producto in self.inventario:\n",
    "            nombre = producto[\"nombre\"]\n",
    "            precio = producto[\"precio\"]\n",
    "            cantidad = producto[\"cantidad\"]\n",
    "            print(f\"Nombre: {nombre}, Precio: {precio}€, Cantidad): {cantidad}\")\n",
    "\n",
    "#Parte 2 metodo 3\n",
    "\n",
    "    def buscar_producto(self, nombre):\n",
    "        for producto in self.inventario:\n",
    "            if producto[\"nombre\"] == nombre:\n",
    "                print(f\"Nombre: {producto['nombre']}, Precio: {producto['precio']}€, Cantidad: {producto['cantidad']}\")\n",
    "                break\n",
    "        else:\n",
    "            print(f\"El producto '{nombre}' no está en el inventario.\")\n",
    "\n",
    "#Parte 2 metodo 4\n",
    "\n",
    "    def actualizar_stock(self, nombre, cantidad):\n",
    "        for producto in self.inventario:\n",
    "            if producto[\"nombre\"] == nombre:\n",
    "                producto[\"cantidad\"] += cantidad\n",
    "                print(f\"El stock ha sido actualizado en {nombre} con la cantidad: {producto['cantidad']}\")\n",
    "                break\n",
    "        else:\n",
    "            print(f\"El producto {nombre} no está en el inventario\")\n",
    "\n",
    "#Parte 2 metodo 5\n",
    "\n",
    "    def eliminar_producto(self, nombre):\n",
    "        for producto in self.inventario:\n",
    "            if producto[\"nombre\"] == nombre:\n",
    "                self.inventario.remove(producto)\n",
    "                print(f\"El producto {nombre} está eliminado del inventario\")\n",
    "                break\n",
    "        else:\n",
    "                print(f\"El producto {nombre} no está en el inventario\")\n",
    "\n",
    "#Parte 2 metodo 6\n",
    "         \n",
    "    def calcular_valor_inventario(self):\n",
    "        valor_total = 0\n",
    "        for producto in self.inventario:\n",
    "            precio = producto[\"precio\"]\n",
    "            cantidad = producto[\"cantidad\"]\n",
    "            valor_producto = precio * cantidad\n",
    "            valor_total += valor_producto\n",
    "        print(f\"El valor total del invetario es: {valor_total} €\")\n",
    "\n",
    "#Parte 2 metodo 7\n",
    "\n",
    "    def buscar_producto_regex(self, patron):\n",
    "        resultados = []\n",
    "\n",
    "        for producto in self.inventario:\n",
    "            nombre = producto [\"nombre\"]\n",
    "            coincidencias = re.findall(patron,nombre)\n",
    "\n",
    "            if coincidencias:\n",
    "                resultados.append(producto)\n",
    "\n",
    "        if resultados:\n",
    "            print(\"Producto encontrado que coincide con el patron:\")\n",
    "\n",
    "            for producto in resultados:\n",
    "                print (f\"Nombre: {producto['nombre']}, Precio: {producto['precio']}€, Cantidad: {producto['cantidad']}\")\n",
    "\n",
    "        else:\n",
    "            print(f\"No se econtraron prodcutos que coincidan en la busqueda del patron '{patron}'\")\n",
    "\n",
    "#Parte 2 metodo 8\n",
    "\n",
    "    def realizar_compra(self, cliente):\n",
    "            carrito = [] \n",
    "            total_compra = 0\n",
    "\n",
    "            comprar = True\n",
    "            while comprar:\n",
    "                print(\"Inventario:\")\n",
    "                self.ver_inventario()\n",
    "                producto_nombre = input(f\"{cliente['nombre']}, escriba el producto que quiera comprar, o 'fin' para acabar la compra:\")\n",
    "\n",
    "                if producto_nombre.lower() == 'fin':\n",
    "                    comprar = False\n",
    "                else:\n",
    "                    encontrado = False\n",
    "                    producto_en_inventario = None\n",
    "\n",
    "                    for producto in self.inventario:\n",
    "                        if producto[\"nombre\"].lower() == producto_nombre.lower() and producto[\"cantidad\"] > 0:\n",
    "                            producto_en_inventario = producto\n",
    "                            break\n",
    "\n",
    "                    if producto_en_inventario:\n",
    "                        unidades_usuario = int(input(f\"Cuantas unidades de {producto_en_inventario['nombre']} quieres?: \"))\n",
    "                        if unidades_usuario <= producto_en_inventario[\"cantidad\"]:\n",
    "                            carrito.append({\n",
    "                                'nombre': producto_en_inventario['nombre'],\n",
    "                                'precio': producto_en_inventario['precio'],\n",
    "                                'cantidad': unidades_usuario\n",
    "                                    })\n",
    "                            producto_en_inventario[\"cantidad\"] -= unidades_usuario\n",
    "                            total_compra += producto_en_inventario[\"precio\"] * unidades_usuario\n",
    "                            print(f\"Se han añadido {unidades_usuario} unidades de {producto_en_inventario['nombre']}\")\n",
    "\n",
    "                        else:\n",
    "                            print(f\"No hay suficientes unidades de {producto_en_inventario['nombre']} en el inventario.\")\n",
    "                    else:\n",
    "                        print(f\"'{producto_nombre}' no está disponible en nuestro inventario\")\n",
    "\n",
    "            print(\"Contenido del carrito de compras de\", cliente['nombre'] + \":\")\n",
    "            for producto in carrito:\n",
    "                 print(f\"Nombre: {producto['nombre']}, Precio: {producto['precio']}€\")\n",
    "            print(f\"Coste total de la compra: {total_compra}€\")\n",
    "\n",
    "            if cliente['nombre'] not in self.clientes:\n",
    "                self.clientes[cliente['nombre']] = {'email': cliente['email'], 'compras': []}\n",
    "            self.clientes[cliente['nombre']]['compras'].append({'productos': carrito, 'costo_total': total_compra})\n",
    "\n",
    "\n",
    "#Parte 2 metodo 9 \n",
    "\n",
    "    def procesar_pago(self, total_compra):\n",
    "        while True:\n",
    "            try:\n",
    "                total = float(input(\"¿Con cuanto va a pagar?\"))\n",
    "                if total >= total_compra:\n",
    "                    cambio = total - total_compra\n",
    "                    print(f\"Pago con éxito. Su cambio es: €{cambio}\")\n",
    "                    return\n",
    "                else:\n",
    "                    print(\"Dinero insuficiente. Por favor, ingrese una cantidad igual o mayor al total de la compra.\")\n",
    "            except ValueError:\n",
    "                print(\"Escriba un valor numérico válido.\")\n",
    "\n",
    "#Parte 2 metodo 10  \n",
    "\n",
    "    def agregar_cliente(self, nombre, email):\n",
    "        self.clientes[nombre] = {'email': email, 'compras': []}\n",
    "        \n",
    "#Parte 2 metodo 11 \n",
    "\n",
    "    def ver_clientes(self):\n",
    "        if not self.clientes:\n",
    "            print(\"No hay clientes registrados en la tienda.\")\n",
    "        else:\n",
    "            print(\"Lista de clientes registrados:\")\n",
    "            for nombre, info_cliente in self.clientes.items():\n",
    "                email = info_cliente['email']\n",
    "                print(f\"Nombre: {nombre}, Correo electrónico: {email}\")\n",
    "\n",
    "#Parte 2 metodo 12\n",
    "\n",
    "    def registrar_compra(self, nombre_cliente, carrito):\n",
    "        if nombre_cliente in self.clientes:\n",
    "            cliente = self.clientes[nombre_cliente]\n",
    "\n",
    "            total_compra = 0\n",
    "            productos_comprados = []\n",
    "\n",
    "            for producto, info in carrito.items():\n",
    "                if producto in self.inventario:\n",
    "                    cantidad = info[\"cantidad\"]\n",
    "                    precio = self.inventario[self.inventario.index({'nombre': producto})][\"precio\"]\n",
    "\n",
    "                    if cantidad > 0:\n",
    "                        total_producto = precio * cantidad\n",
    "                        total_compra += total_producto\n",
    "                        productos_comprados.append({\"nombre\": producto, \"precio\": precio, \"cantidad\": cantidad})\n",
    "                    else:\n",
    "                        print(f\"La cantidad de '{producto}' en el carrito debe ser mayor que cero.\")\n",
    "                else:\n",
    "                    print(f\"'{producto}' no está disponible en el inventario.\")\n",
    "\n",
    "            if total_compra > 0:\n",
    "                if \"compras\" not in cliente:\n",
    "                    cliente[\"compras\"] = []\n",
    "                cliente[\"compras\"].append({\"productos\": productos_comprados, \"costo_total\": total_compra})\n",
    "                print(f\"Compra registrada para {nombre_cliente}. Total de la compra: €{total_compra}\")\n",
    "            else:\n",
    "                print(f\"No se registró ninguna compra para {nombre_cliente}.\")\n",
    "        else:\n",
    "            print(f\"No se puede realizar la acción, el cliente '{nombre_cliente}' no está en el diccionario de clientes.\")\n",
    "\n",
    "#Parte 2 metodo 13\n",
    "\n",
    "    def ver_compras_cliente(self, nombre_cliente):\n",
    "        if nombre_cliente in self.clientes:\n",
    "            historial = self.clientes[nombre_cliente]['compras']\n",
    "            print(f\"Compras realizadas por '{nombre_cliente}':\")\n",
    "            for i, compra in enumerate(historial, 1):\n",
    "                print(f\"Compra {i}:\")\n",
    "                for producto_comprado in compra['productos']:\n",
    "                    print(f\"Nombre: {producto_comprado['nombre']}, Precio: {producto_comprado['precio']}€, Cantidad: {producto_comprado['cantidad']}\")\n",
    "                print(f\"Total de la compra: {compra['costo_total']}€\")\n",
    "        else:\n",
    "            print(f\"El cliente '{nombre_cliente}' no está registrado en la tienda.\")\n",
    "\n",
    "#Parte 2 metodo 14    \n",
    "\n",
    "    def calcular_ventas_totales(self):\n",
    "        ventas_totales = 0.0\n",
    "        for cliente in self.clientes.values():\n",
    "            for compra in cliente.get(\"compras\", []):\n",
    "                ventas_totales += compra.get(\"costo_total\", 0.0)\n",
    "\n",
    "        print(f\"Ventas totales de la tienda: €{ventas_totales}\")    \n",
    "\n"
   ]
  },
  {
   "cell_type": "markdown",
   "metadata": {},
   "source": [
    "La clase TiendaOnline debe tener los siguientes métodos:\n",
    "\n",
    "1. agregar_producto(self, nombre, precio, cantidad): Este método agrega un producto al inventario o actualiza su cantidad si ya existe. Debe recibir el nombre, precio y cantidad del producto como parámetros.\n",
    "\n",
    "- Itera a través del inventario y compara los nombres de los productos con el nombre proporcionado.\n",
    "\n",
    "- Si el producto ya existe, actualiza la cantidad.\n",
    "\n",
    "- Si no existe, agrega un nuevo producto al inventario"
   ]
  },
  {
   "cell_type": "code",
   "execution_count": 2,
   "metadata": {},
   "outputs": [
    {
     "name": "stdout",
     "output_type": "stream",
     "text": [
      "Inventario: [{'nombre': 'Regaliz Rojo', 'precio': 0.1, 'cantidad': 500}, {'nombre': 'Moras', 'precio': 0.15, 'cantidad': 200}, {'nombre': 'Dentaduras', 'precio': 0.15, 'cantidad': 150}, {'nombre': 'Regaliz Negro', 'precio': 0.1, 'cantidad': 100}, {'nombre': 'Ladrillos', 'precio': 0.2, 'cantidad': 600}]\n"
     ]
    }
   ],
   "source": [
    "chucherias_mary = TiendaOnline([])\n",
    "\n",
    "chucherias_mary.agregar_producto(\"Regaliz Rojo\", 0.10, 500)\n",
    "chucherias_mary.agregar_producto(\"Moras\", 0.15, 200)\n",
    "chucherias_mary.agregar_producto(\"Dentaduras\", 0.15, 150)\n",
    "chucherias_mary.agregar_producto(\"Regaliz Negro\", 0.10, 100)\n",
    "chucherias_mary.agregar_producto(\"Ladrillos\", 0.20, 600)\n",
    "\n",
    "print(\"Inventario:\", chucherias_mary.inventario)"
   ]
  },
  {
   "cell_type": "markdown",
   "metadata": {},
   "source": [
    "2. ver_inventario(self): Muestra el inventario de productos con sus detalles.\n",
    "- Utiliza un bucle for para recorrer el inventario.\n",
    "- Imprime los detalles (nombre, precio, cantidad) de cada producto.\n",
    "- Debería verse:\n",
    "\n",
    "Nombre: Camisa, Precio: $20, Cantidad: 50\n",
    "Nombre: Pantalón, Precio: $30, Cantidad: 30\n",
    "Nombre: Zapatos, Precio: $50, Cantidad: 40\n",
    "Nombre: Camisa, Precio: $20, Cantidad: 50"
   ]
  },
  {
   "cell_type": "code",
   "execution_count": 3,
   "metadata": {},
   "outputs": [
    {
     "name": "stdout",
     "output_type": "stream",
     "text": [
      "Inventario:\n",
      "Nombre: Regaliz Rojo, Precio: 0.1€, Cantidad): 500\n",
      "Nombre: Moras, Precio: 0.15€, Cantidad): 200\n",
      "Nombre: Dentaduras, Precio: 0.15€, Cantidad): 150\n",
      "Nombre: Regaliz Negro, Precio: 0.1€, Cantidad): 100\n",
      "Nombre: Ladrillos, Precio: 0.2€, Cantidad): 600\n"
     ]
    }
   ],
   "source": [
    "print(\"Inventario:\")\n",
    "chucherias_mary.ver_inventario()"
   ]
  },
  {
   "cell_type": "markdown",
   "metadata": {},
   "source": [
    "3. buscar_producto(self, nombre): Busca un producto en el inventario por nombre y muestra sus detalles si se encuentra. Debe recibir el nombre del producto como parámetro.\n",
    "\n",
    "- Utiliza un bucle for para recorrer el inventario.\n",
    "- Compara los nombres de los productos con el nombre proporcionado.\n",
    "- Si se encuentra el producto, imprime sus detalles.\n",
    "- Debe mostrar:\n",
    "\n",
    "Nombre: Camisa, Precio: $20, Cantidad: 40"
   ]
  },
  {
   "cell_type": "code",
   "execution_count": 4,
   "metadata": {},
   "outputs": [
    {
     "name": "stdout",
     "output_type": "stream",
     "text": [
      "Busqueda del producto\n",
      "Nombre: Moras, Precio: 0.15€, Cantidad: 200\n"
     ]
    }
   ],
   "source": [
    "print(\"Busqueda del producto\")\n",
    "chucherias_mary.buscar_producto(\"Moras\")"
   ]
  },
  {
   "cell_type": "markdown",
   "metadata": {},
   "source": [
    "4. actualizar_stock(self, nombre, cantidad): Actualiza el stock de un producto en el inventario. Debe recibir el nombre del producto y la cantidad a agregar o quitar como parámetros.\n",
    "\n",
    "- Utiliza un bucle for para recorrer el inventario.\n",
    "- Busca el producto por nombre.\n",
    "- Actualiza la cantidad según la entrada del usuario.\n",
    "- Si el producto no esta en el inventario muestra un mensaje indicándolo"
   ]
  },
  {
   "cell_type": "code",
   "execution_count": 5,
   "metadata": {},
   "outputs": [
    {
     "name": "stdout",
     "output_type": "stream",
     "text": [
      "El stock ha sido actualizado en Regaliz Negro con la cantidad: 70\n",
      "El stock ha sido actualizado en Ladrillos con la cantidad: 480\n",
      "El producto Ositos no está en el inventario\n",
      "Inventario\n",
      "Nombre: Regaliz Rojo, Precio: 0.1€, Cantidad): 500\n",
      "Nombre: Moras, Precio: 0.15€, Cantidad): 200\n",
      "Nombre: Dentaduras, Precio: 0.15€, Cantidad): 150\n",
      "Nombre: Regaliz Negro, Precio: 0.1€, Cantidad): 70\n",
      "Nombre: Ladrillos, Precio: 0.2€, Cantidad): 480\n"
     ]
    }
   ],
   "source": [
    "chucherias_mary.actualizar_stock(\"Regaliz Negro\", -30)\n",
    "chucherias_mary.actualizar_stock(\"Ladrillos\", -120)\n",
    "chucherias_mary.actualizar_stock(\"Ositos\", -10)\n",
    "\n",
    "print(\"Inventario\")\n",
    "chucherias_mary.ver_inventario()"
   ]
  },
  {
   "cell_type": "markdown",
   "metadata": {},
   "source": [
    "5. eliminar_producto(self, nombre): Elimina un producto del inventario por nombre. Debe recibir el nombre del producto como parámetro.\n",
    "\n",
    "- Utiliza un bucle for para recorrer el inventario.\n",
    "- Busca el producto por nombre.\n",
    "- Elimina el producto del inventario si existe.\n",
    "- Si el producto no esta en el inventario muestra un mensaje indicándolo."
   ]
  },
  {
   "cell_type": "code",
   "execution_count": 6,
   "metadata": {},
   "outputs": [
    {
     "name": "stdout",
     "output_type": "stream",
     "text": [
      "El producto Regaliz Negro está eliminado del inventario\n",
      "inventario\n",
      "Nombre: Regaliz Rojo, Precio: 0.1€, Cantidad): 500\n",
      "Nombre: Moras, Precio: 0.15€, Cantidad): 200\n",
      "Nombre: Dentaduras, Precio: 0.15€, Cantidad): 150\n",
      "Nombre: Ladrillos, Precio: 0.2€, Cantidad): 480\n"
     ]
    }
   ],
   "source": [
    "chucherias_mary.eliminar_producto(\"Regaliz Negro\")\n",
    "\n",
    "print(\"inventario\")\n",
    "chucherias_mary.ver_inventario()"
   ]
  },
  {
   "cell_type": "markdown",
   "metadata": {},
   "source": [
    "6. calcular_valor_inventario(self): Calcula y muestra el valor total del inventario.\n",
    "Utiliza un bucle for para calcular el valor total del inventario.\n",
    "Itera a través del inventario y suma el valor de cada producto (precio x cantidad). Es decir, calcula el valor total del inventario. Ejemplo:\n",
    "\n",
    "si tenemos 5 camisas que valen 5 euros \n",
    "y 10 calcetines que valen 1 euro\n",
    "este método te tiene que devolver: 35 euros\n",
    "\n",
    "valor_camisas = 5 * 5\n",
    "valor_calcetines = 10 * 1\n",
    "\n",
    "valor_camisas + valor_calcetines = 35"
   ]
  },
  {
   "cell_type": "code",
   "execution_count": 7,
   "metadata": {},
   "outputs": [
    {
     "name": "stdout",
     "output_type": "stream",
     "text": [
      "El valor total del invetario es: 198.5 €\n"
     ]
    }
   ],
   "source": [
    "chucherias_mary.calcular_valor_inventario()"
   ]
  },
  {
   "cell_type": "markdown",
   "metadata": {},
   "source": [
    "7. buscar_producto_regex(self, patron): Busca productos en el inventario que coincidan con un patrón de búsqueda en formato regex en el nombre y muestra los resultados. Debe recibir el patrón como parámetro.\n",
    "Utiliza un bucle for para recorrer el inventario.\n",
    "Utiliza la función más apropiada para buscar coincidencias con el patrón de expresión regular.\n",
    "Agrega los productos encontrados a una lista y luego imprime sus detalles."
   ]
  },
  {
   "cell_type": "code",
   "execution_count": 8,
   "metadata": {},
   "outputs": [
    {
     "name": "stdout",
     "output_type": "stream",
     "text": [
      "No se econtraron prodcutos que coincidan en la busqueda del patron 'Ositos'\n",
      "Producto encontrado que coincide con el patron:\n",
      "Nombre: Moras, Precio: 0.15€, Cantidad: 200\n"
     ]
    }
   ],
   "source": [
    "chucherias_mary.buscar_producto_regex(\"Ositos\")\n",
    "chucherias_mary.buscar_producto_regex(\"Moras\")"
   ]
  },
  {
   "cell_type": "markdown",
   "metadata": {},
   "source": [
    "8. realizar_compra(self): Permite a un cliente realizar una compra seleccionando productos del inventario. Debe interactuar con el cliente para seleccionar productos y calcular el costo total de la compra.\n",
    "\n",
    "- Utiliza un bucle while para permitir al cliente realizar múltiples compras.\n",
    "- Muestra el inventario y solicita al cliente ingresar el nombre del producto que desea comprar.\n",
    "- Registra los productos seleccionados en un carrito y actualiza el inventario.\n",
    "- Calcula el costo total de la compra."
   ]
  },
  {
   "cell_type": "code",
   "execution_count": 23,
   "metadata": {},
   "outputs": [],
   "source": [
    "cliente = {'nombre': 'Peter', 'email': 'peter_la_anguila@gmail.com', 'compras': []}\n",
    "chucherias_mary.realizar_compra(cliente)\n",
    "\n",
    "#Este codigo con jupiter no lo quiere leer, en otros si, por lo cual no hace bien algunos metedos siguientes"
   ]
  },
  {
   "cell_type": "markdown",
   "metadata": {},
   "source": [
    "9. procesar_pago(self): Procesa el pago de una compra, calcula el cambio y muestra un mensaje de confirmación.\n",
    "\n",
    "- Utiliza un bloque try...except para manejar excepciones.\n",
    "- Solicita al cliente ingresar la cantidad total y la cantidad de pago usando un input.\n",
    "- Calcula el cambio y muestra un mensaje de pago exitoso o un error en caso de monto insuficiente."
   ]
  },
  {
   "cell_type": "code",
   "execution_count": 10,
   "metadata": {},
   "outputs": [
    {
     "name": "stdout",
     "output_type": "stream",
     "text": [
      "Pago con éxito. Su cambio es: €0.7\n"
     ]
    }
   ],
   "source": [
    "coste_total = 0.30\n",
    "chucherias_mary.procesar_pago(coste_total)"
   ]
  },
  {
   "cell_type": "markdown",
   "metadata": {},
   "source": [
    "10. agregar_cliente(self, nombre, email): Agrega un nuevo cliente al registro de clientes. Debe recibir el nombre y el correo electrónico del cliente como parámetros.\n",
    "- Agrega un cliente al diccionario de clientes con su nombre y correo electrónico."
   ]
  },
  {
   "cell_type": "code",
   "execution_count": 17,
   "metadata": {},
   "outputs": [],
   "source": [
    "chucherias_mary.agregar_cliente(\"Carlos\", \"carlos_olmedillo@outlook.com\")"
   ]
  },
  {
   "cell_type": "markdown",
   "metadata": {},
   "source": [
    "11. ver_clientes(self): Muestra la lista de clientes registrados con sus nombres y correos electrónicos.\n",
    "- Utiliza un bucle for para recorrer la base de datos de clientes.\n",
    "- Imprime los detalles de cada cliente (nombre y correo electrónico)."
   ]
  },
  {
   "cell_type": "code",
   "execution_count": 18,
   "metadata": {},
   "outputs": [
    {
     "name": "stdout",
     "output_type": "stream",
     "text": [
      "Lista de clientes registrados:\n",
      "Nombre: Carlos, Correo electrónico: carlos_olmedillo@outlook.com\n",
      "Nombre: Alicia, Correo electrónico: alicia_briviesca@example.com\n"
     ]
    }
   ],
   "source": [
    "chucherias_mary.agregar_cliente(\"Alicia\", \"alicia_briviesca@example.com\")\n",
    "chucherias_mary.ver_clientes()"
   ]
  },
  {
   "cell_type": "markdown",
   "metadata": {},
   "source": [
    "12. registrar_compra(self, nombre_cliente, carrito): Registra una compra para un cliente, actualiza las ventas totales y agrega la compra al historial del cliente. Debe recibir el nombre del cliente y el carrito de compras como parámetros.\n",
    "- Busca al cliente en el diccionario de clientes.\n",
    "- Si el cliente no esta en el diccionario de clientes, muestra que no se puede realizar la acción por que el cliente no está en el diccionario.\n",
    "- Calcula el total de la compra y registra la compra, incluyendo los productos y el total.\n",
    "- Ejemplo:\n",
    "carrito_cliente1 = {\"Camisa\": {\"precio\": 20, \"cantidad\": 3}}\n",
    "tienda.registrar_compra(\"Cliente1\", carrito_cliente1)"
   ]
  },
  {
   "cell_type": "code",
   "execution_count": 19,
   "metadata": {},
   "outputs": [
    {
     "name": "stdout",
     "output_type": "stream",
     "text": [
      "Inventario\n",
      "Nombre: Regaliz Rojo, Precio: 0.1€, Cantidad): 500\n",
      "Nombre: Moras, Precio: 0.15€, Cantidad): 200\n",
      "Nombre: Dentaduras, Precio: 0.15€, Cantidad): 150\n",
      "Nombre: Ladrillos, Precio: 0.2€, Cantidad): 480\n",
      "'Ositos' no está disponible en el inventario.\n",
      "No se registró ninguna compra para Mariano.\n",
      "Lista de clientes\n",
      "Lista de clientes registrados:\n",
      "Nombre: Carlos, Correo electrónico: carlos_olmedillo@outlook.com\n",
      "Nombre: Alicia, Correo electrónico: alicia_briviesca@example.com\n",
      "Nombre: Mariano, Correo electrónico: mariano_el_del_pueblo@gmail.com\n"
     ]
    }
   ],
   "source": [
    "print(\"Inventario\")\n",
    "chucherias_mary.ver_inventario()\n",
    "\n",
    "chucherias_mary.agregar_cliente(\"Mariano\", \"mariano_el_del_pueblo@gmail.com\")\n",
    "\n",
    "carrito_cliente1 = {\"Ositos\": {\"precio\": 0.15, \"cantidad\": 3}}\n",
    "chucherias_mary.registrar_compra(\"Mariano\", carrito_cliente1)\n",
    "\n",
    "print(\"Lista de clientes\")\n",
    "chucherias_mary.ver_clientes()"
   ]
  },
  {
   "cell_type": "markdown",
   "metadata": {},
   "source": [
    "13. ver_compras_cliente(self, nombre_cliente): Muestra el historial de compras de un cliente. Debe recibir el nombre del cliente como parámetro.\n",
    "- Busca al cliente en el diccionario de clientes.\n",
    "- Muestra las compras realizadas por el cliente, incluyendo - detalles de productos y totales."
   ]
  },
  {
   "cell_type": "code",
   "execution_count": 22,
   "metadata": {},
   "outputs": [
    {
     "name": "stdout",
     "output_type": "stream",
     "text": [
      "El cliente 'Peter' no está registrado en la tienda.\n"
     ]
    }
   ],
   "source": [
    "chucherias_mary.ver_compras_cliente(\"Peter\")"
   ]
  },
  {
   "cell_type": "markdown",
   "metadata": {},
   "source": [
    "14. calcular_ventas_totales(self): Muestra las ventas totales de la tienda.\n",
    "Suma los totales de todas las compras realizadas y muestra el total de ventas totales en la tienda."
   ]
  },
  {
   "cell_type": "code",
   "execution_count": 21,
   "metadata": {},
   "outputs": [
    {
     "name": "stdout",
     "output_type": "stream",
     "text": [
      "Ventas totales de la tienda: €0.0\n"
     ]
    }
   ],
   "source": [
    "chucherias_mary.calcular_ventas_totales()"
   ]
  }
 ],
 "metadata": {
  "kernelspec": {
   "display_name": "Python 3",
   "language": "python",
   "name": "python3"
  },
  "language_info": {
   "codemirror_mode": {
    "name": "ipython",
    "version": 3
   },
   "file_extension": ".py",
   "mimetype": "text/x-python",
   "name": "python",
   "nbconvert_exporter": "python",
   "pygments_lexer": "ipython3",
   "version": "3.9.6"
  }
 },
 "nbformat": 4,
 "nbformat_minor": 2
}
